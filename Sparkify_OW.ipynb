{
 "cells": [
  {
   "cell_type": "code",
   "execution_count": 104,
   "metadata": {},
   "outputs": [],
   "source": [
    "# import libraries\n",
    "from pyspark.sql import SparkSession\n",
    "from pyspark.sql.functions import udf\n",
    "from pyspark.sql.types import StringType\n",
    "from pyspark.sql.types import IntegerType\n",
    "from pyspark.sql.types import DateType\n",
    "\n",
    "from pyspark.sql import functions as func\n",
    "from pyspark.sql.functions import desc, asc, when, to_date\n",
    "from pyspark.sql.functions import sum as Fsum\n",
    "\n",
    "import datetime\n",
    "\n",
    "import numpy as np\n",
    "import pandas as pd\n",
    "%matplotlib inline\n",
    "import matplotlib.pyplot as plt\n",
    "import seaborn as sns"
   ]
  },
  {
   "cell_type": "markdown",
   "metadata": {},
   "source": [
    "# Load and Clean Dataset\n",
    "\n",
    "Load and clean the dataset, checking for invalid or missing data - for example, records without userids or sessionids. "
   ]
  },
  {
   "cell_type": "code",
   "execution_count": 6,
   "metadata": {},
   "outputs": [
    {
     "data": {
      "text/plain": [
       "[Row(artist='Martin Orford', auth='Logged In', firstName='Joseph', gender='M', itemInSession=20, lastName='Morales', length=597.55057, level='free', location='Corpus Christi, TX', method='PUT', page='NextSong', registration=1532063507000, sessionId=292, song='Grand Designs', status=200, ts=1538352011000, userAgent='\"Mozilla/5.0 (Macintosh; Intel Mac OS X 10_9_4) AppleWebKit/537.36 (KHTML, like Gecko) Chrome/36.0.1985.125 Safari/537.36\"', userId='293'),\n",
       " Row(artist=\"John Brown's Body\", auth='Logged In', firstName='Sawyer', gender='M', itemInSession=74, lastName='Larson', length=380.21179, level='free', location='Houston-The Woodlands-Sugar Land, TX', method='PUT', page='NextSong', registration=1538069638000, sessionId=97, song='Bulls', status=200, ts=1538352025000, userAgent='\"Mozilla/5.0 (Macintosh; Intel Mac OS X 10_9_4) AppleWebKit/537.36 (KHTML, like Gecko) Chrome/36.0.1985.143 Safari/537.36\"', userId='98'),\n",
       " Row(artist='Afroman', auth='Logged In', firstName='Maverick', gender='M', itemInSession=184, lastName='Santiago', length=202.37016, level='paid', location='Orlando-Kissimmee-Sanford, FL', method='PUT', page='NextSong', registration=1535953455000, sessionId=178, song='Because I Got High', status=200, ts=1538352118000, userAgent='\"Mozilla/5.0 (Macintosh; Intel Mac OS X 10_9_4) AppleWebKit/537.36 (KHTML, like Gecko) Chrome/36.0.1985.143 Safari/537.36\"', userId='179'),\n",
       " Row(artist=None, auth='Logged In', firstName='Maverick', gender='M', itemInSession=185, lastName='Santiago', length=None, level='paid', location='Orlando-Kissimmee-Sanford, FL', method='PUT', page='Logout', registration=1535953455000, sessionId=178, song=None, status=307, ts=1538352119000, userAgent='\"Mozilla/5.0 (Macintosh; Intel Mac OS X 10_9_4) AppleWebKit/537.36 (KHTML, like Gecko) Chrome/36.0.1985.143 Safari/537.36\"', userId='179'),\n",
       " Row(artist='Lily Allen', auth='Logged In', firstName='Gianna', gender='F', itemInSession=22, lastName='Campos', length=194.53342, level='paid', location='Mobile, AL', method='PUT', page='NextSong', registration=1535931018000, sessionId=245, song='Smile (Radio Edit)', status=200, ts=1538352124000, userAgent='Mozilla/5.0 (Windows NT 6.1; WOW64; rv:31.0) Gecko/20100101 Firefox/31.0', userId='246')]"
      ]
     },
     "execution_count": 6,
     "metadata": {},
     "output_type": "execute_result"
    }
   ],
   "source": [
    "user_log = spark.read.json(\"Udacity Deep Learning/medium-sparkify-event-data.json\")\n",
    "user_log.take(5)"
   ]
  },
  {
   "cell_type": "code",
   "execution_count": 7,
   "metadata": {},
   "outputs": [
    {
     "name": "stdout",
     "output_type": "stream",
     "text": [
      "root\n",
      " |-- artist: string (nullable = true)\n",
      " |-- auth: string (nullable = true)\n",
      " |-- firstName: string (nullable = true)\n",
      " |-- gender: string (nullable = true)\n",
      " |-- itemInSession: long (nullable = true)\n",
      " |-- lastName: string (nullable = true)\n",
      " |-- length: double (nullable = true)\n",
      " |-- level: string (nullable = true)\n",
      " |-- location: string (nullable = true)\n",
      " |-- method: string (nullable = true)\n",
      " |-- page: string (nullable = true)\n",
      " |-- registration: long (nullable = true)\n",
      " |-- sessionId: long (nullable = true)\n",
      " |-- song: string (nullable = true)\n",
      " |-- status: long (nullable = true)\n",
      " |-- ts: long (nullable = true)\n",
      " |-- userAgent: string (nullable = true)\n",
      " |-- userId: string (nullable = true)\n",
      "\n"
     ]
    }
   ],
   "source": [
    "user_log.printSchema()"
   ]
  },
  {
   "cell_type": "code",
   "execution_count": null,
   "metadata": {},
   "outputs": [],
   "source": [
    "print(\"Missing user ids: \", user_log.where(user_log.userId.isNull()).count())\n",
    "print(\"Missing session ids: \", user_log.where(user_log.sessionId.isNull()).count())"
   ]
  },
  {
   "cell_type": "code",
   "execution_count": 8,
   "metadata": {},
   "outputs": [
    {
     "data": {
      "text/plain": [
       "543705"
      ]
     },
     "execution_count": 8,
     "metadata": {},
     "output_type": "execute_result"
    }
   ],
   "source": [
    "# Remove rows with null user ids or session ids\n",
    "user_log_valid = user_log.dropna(how = \"any\", subset = [\"userId\", \"sessionId\"])\n",
    "user_log_valid.count()"
   ]
  },
  {
   "cell_type": "markdown",
   "metadata": {},
   "source": [
    "# Exploratory Data Analysis\n",
    "\n",
    "Goal is to understand dataset structure, features and distributions, and to define the churn event.\n",
    "\n",
    "Churn event is defined based on the 'Cancellation Confirmation' event. After the event is defined, we can observe the behavior of groups of users."
   ]
  },
  {
   "cell_type": "code",
   "execution_count": 9,
   "metadata": {},
   "outputs": [
    {
     "name": "stdout",
     "output_type": "stream",
     "text": [
      "+--------------------+\n",
      "|                page|\n",
      "+--------------------+\n",
      "|              Cancel|\n",
      "|    Submit Downgrade|\n",
      "|         Thumbs Down|\n",
      "|                Home|\n",
      "|           Downgrade|\n",
      "|         Roll Advert|\n",
      "|              Logout|\n",
      "|       Save Settings|\n",
      "|Cancellation Conf...|\n",
      "|               About|\n",
      "| Submit Registration|\n",
      "|            Settings|\n",
      "|               Login|\n",
      "|            Register|\n",
      "|     Add to Playlist|\n",
      "|          Add Friend|\n",
      "|            NextSong|\n",
      "|           Thumbs Up|\n",
      "|                Help|\n",
      "|             Upgrade|\n",
      "+--------------------+\n",
      "only showing top 20 rows\n",
      "\n"
     ]
    }
   ],
   "source": [
    "# Distinct type of pages that exist\n",
    "user_log_valid.groupBy(\"page\").count().show()"
   ]
  },
  {
   "cell_type": "code",
   "execution_count": 11,
   "metadata": {},
   "outputs": [
    {
     "name": "stdout",
     "output_type": "stream",
     "text": [
      "+-----+------+\n",
      "|churn| count|\n",
      "+-----+------+\n",
      "|    1|    99|\n",
      "|    0|543606|\n",
      "+-----+------+\n",
      "\n"
     ]
    }
   ],
   "source": [
    "# add churn event to use as target event\n",
    "flag_churn_event = udf(lambda x: 1 if x == \"Cancellation Confirmation\" else 0, IntegerType())\n",
    "user_log_valid = user_log_valid.withColumn(\"churn\", flag_churn_event(\"page\"))\n",
    "user_log_valid.groupBy(\"churn\").count().show()"
   ]
  },
  {
   "cell_type": "code",
   "execution_count": 12,
   "metadata": {},
   "outputs": [],
   "source": [
    "# Since time is recorded in Unix time, we will convert it to python timestamp for convenience \n",
    "# and to apply date/time arithmetic later\n",
    "# udf to convert the ts to timestamp - source https://stackoverflow.com/questions/45977449/convert-timestamp-to-date-in-spark-dataframe\n",
    "\n",
    "get_timestamp = udf(lambda x : datetime.datetime.fromtimestamp(x/ 1000.0).strftime(\"%Y-%m-%d %H:%M:%S\"))\n",
    "\n",
    "#apply this udf in the dataframe with the timestamp\n",
    "user_log_valid = user_log_valid.withColumn(\"event_ts\", get_timestamp(user_log_valid.ts))"
   ]
  },
  {
   "cell_type": "code",
   "execution_count": 13,
   "metadata": {},
   "outputs": [],
   "source": [
    "# save it in a temp view so it can be used with spark sql manipulations later\n",
    "user_log_valid.createOrReplaceTempView(\"log_view\")"
   ]
  },
  {
   "cell_type": "code",
   "execution_count": null,
   "metadata": {},
   "outputs": [],
   "source": [
    "spark.sql(\"select churn, count(distinct userId) from log_view group by churn\").show()"
   ]
  },
  {
   "cell_type": "code",
   "execution_count": null,
   "metadata": {},
   "outputs": [],
   "source": [
    "user_log_valid.describe()"
   ]
  },
  {
   "cell_type": "markdown",
   "metadata": {},
   "source": [
    "# Feature Engineering\n",
    "\n",
    "To continue the EDA, we should aggregate the data on a session and then user levels. In the process, we can also create additional features. Then we can continue the EDA to evaluate the potential correlation between the behavior of the subscribers and the churn event."
   ]
  },
  {
   "cell_type": "code",
   "execution_count": 14,
   "metadata": {},
   "outputs": [],
   "source": [
    "# add session level features\n",
    "# session duration\n",
    "# number of songs, artists per session, average song length etc. \n",
    "\n",
    "user_session_df = spark.sql('''\n",
    "    select userId, sessionId, count(distinct artist) as session_artist_cnt, \n",
    "    count(distinct song) as session_song_cnt, min(event_ts) as start_ts, max(event_ts) as end_ts,\n",
    "    (max(ts) - min(ts))/3600000  as session_duration_hr, avg(length) as avg_song_length\n",
    "    from log_view\n",
    "    where song != 'None'\n",
    "    group by userId, sessionId''')\n",
    "\n",
    "user_session_df.createOrReplaceTempView('user_session_view')"
   ]
  },
  {
   "cell_type": "code",
   "execution_count": 15,
   "metadata": {},
   "outputs": [
    {
     "name": "stdout",
     "output_type": "stream",
     "text": [
      "root\n",
      " |-- userId: string (nullable = true)\n",
      " |-- sessionId: long (nullable = true)\n",
      " |-- session_artist_cnt: long (nullable = false)\n",
      " |-- session_song_cnt: long (nullable = false)\n",
      " |-- start_ts: string (nullable = true)\n",
      " |-- end_ts: string (nullable = true)\n",
      " |-- session_duration_hr: double (nullable = true)\n",
      " |-- avg_song_length: double (nullable = true)\n",
      "\n"
     ]
    }
   ],
   "source": [
    "user_session_df.printSchema()"
   ]
  },
  {
   "cell_type": "code",
   "execution_count": 17,
   "metadata": {},
   "outputs": [
    {
     "name": "stdout",
     "output_type": "stream",
     "text": [
      "root\n",
      " |-- userId: string (nullable = true)\n",
      " |-- churn: integer (nullable = true)\n",
      " |-- start_dt: string (nullable = true)\n",
      " |-- end_dt: string (nullable = true)\n",
      " |-- views_cnt: long (nullable = false)\n",
      " |-- visits_cnt: long (nullable = false)\n",
      " |-- paid: integer (nullable = false)\n",
      " |-- all_artists_cnt: long (nullable = false)\n",
      " |-- tenure: integer (nullable = true)\n",
      " |-- avg_session_song_cnt: double (nullable = true)\n",
      " |-- avg_session_duriation_hr: double (nullable = true)\n",
      " |-- avg_song_length: double (nullable = true)\n",
      "\n"
     ]
    }
   ],
   "source": [
    "# Main set will have user level aggregation - i.e. one row per user\n",
    "user_df = spark.sql('''\n",
    "    select a.userId, max(churn) as churn, min(event_ts) as start_dt, max(event_ts) as end_dt, count(*) as views_cnt, \n",
    "    count(distinct a.sessionId) as visits_cnt, if(sum(if(level=='paid', 1, 0))>0, 1, 0) as paid,\n",
    "    if(gender=='')\n",
    "    count(distinct artist) as all_artists_cnt, datediff(max(event_ts),min(event_ts)) as tenure,\n",
    "    avg(session_song_cnt) as avg_session_song_cnt, avg(session_duration_hr) as avg_session_duriation_hr,\n",
    "    avg(avg_song_length) as avg_song_length\n",
    "    from log_view a\n",
    "    join user_session_view b on a.userId = b.userId    \n",
    "    group by a.userId''')\n",
    "user_df.createOrReplaceTempView('user_view')\n",
    "user_df.printSchema()"
   ]
  },
  {
   "cell_type": "code",
   "execution_count": 19,
   "metadata": {},
   "outputs": [
    {
     "name": "stdout",
     "output_type": "stream",
     "text": [
      "+-----+-----+\n",
      "|churn|count|\n",
      "+-----+-----+\n",
      "|    1|   99|\n",
      "|    0|  349|\n",
      "+-----+-----+\n",
      "\n"
     ]
    }
   ],
   "source": [
    "user_df.groupBy('churn').count().show()"
   ]
  },
  {
   "cell_type": "code",
   "execution_count": 20,
   "metadata": {},
   "outputs": [],
   "source": [
    "# add counts for each page view by user \n",
    "page_views_df = spark.sql('''\n",
    "    select userId, \n",
    "    sum(if(page=='Thumbs Up', 1, 0)) as thumbs_up,\n",
    "    sum(if(page=='Add to Playlist', 1, 0)) as add_to_playlist,\n",
    "    sum(if(page=='Add Friend',1,0)) as add_friend,\n",
    "    sum(if(page=='Thumbs Down',1,0)) as thumbs_down,\n",
    "    sum(if(page=='Upgrade',1,0)) as upgrade,\n",
    "    sum(if(page=='Downgrade',1,0)) as downgrade,\n",
    "    sum(if(page=='Roll Advert',1,0)) as rol_advert,\n",
    "    sum(if(page=='Help',1,0)) as help, \n",
    "    sum(if(page=='Settings',1,0)) as settings\n",
    "    from log_view \n",
    "    group by userId''')\n",
    "page_views_df.createOrReplaceTempView('page_views')"
   ]
  },
  {
   "cell_type": "code",
   "execution_count": 21,
   "metadata": {},
   "outputs": [],
   "source": [
    "# add page counts to user dataset \n",
    "user_df = spark.sql('''\n",
    "    select a.*, tenure/visits_cnt as freq, thumbs_up, add_to_playlist, add_friend, thumbs_down, upgrade,\n",
    "    downgrade, rol_advert, help, settings\n",
    "    from user_view a\n",
    "    join page_views b on a.userId = b.userId''')"
   ]
  },
  {
   "cell_type": "code",
   "execution_count": 22,
   "metadata": {},
   "outputs": [],
   "source": [
    "# Convert to pandas dataframe for EDA\n",
    "user_df_pd = user_df.toPandas()"
   ]
  },
  {
   "cell_type": "code",
   "execution_count": 24,
   "metadata": {},
   "outputs": [
    {
     "data": {
      "text/plain": [
       "0    0.779018\n",
       "1    0.220982\n",
       "Name: churn, dtype: float64"
      ]
     },
     "execution_count": 24,
     "metadata": {},
     "output_type": "execute_result"
    }
   ],
   "source": [
    "user_df_pd['churn'].value_counts(normalize=True)"
   ]
  },
  {
   "cell_type": "code",
   "execution_count": 27,
   "metadata": {},
   "outputs": [
    {
     "name": "stdout",
     "output_type": "stream",
     "text": [
      "churn\n",
      "0    45.985673\n",
      "1    25.323232\n",
      "Name: tenure, dtype: float64\n"
     ]
    },
    {
     "data": {
      "image/png": "[encoded data removed]",
      "text/plain": [
       "<Figure size 432x288 with 1 Axes>"
      ]
     },
     "metadata": {},
     "output_type": "display_data"
    }
   ],
   "source": [
    "print(user_df_pd.groupby('churn')['tenure'].agg('mean'))\n",
    "sns.boxplot(x='churn', y='tenure', data=user_df_pd);"
   ]
  },
  {
   "cell_type": "markdown",
   "metadata": {},
   "source": [
    "Users who ended up churning had 25 months as average tenure vs. users who did not churn had 46 months of tenure."
   ]
  },
  {
   "cell_type": "code",
   "execution_count": 26,
   "metadata": {},
   "outputs": [
    {
     "name": "stdout",
     "output_type": "stream",
     "text": [
      "churn\n",
      "0    5.115502\n",
      "1    2.753996\n",
      "Name: freq, dtype: float64\n"
     ]
    },
    {
     "data": {
      "image/png": "[encoded data removed]",
      "text/plain": [
       "<Figure size 432x288 with 1 Axes>"
      ]
     },
     "metadata": {},
     "output_type": "display_data"
    }
   ],
   "source": [
    "print(user_df_pd.groupby('churn')['freq'].agg('mean'))\n",
    "sns.boxplot(x='churn', y='freq', data=user_df_pd);"
   ]
  },
  {
   "cell_type": "markdown",
   "metadata": {},
   "source": [
    "Visit frequency is an engineered feature that shows how many sessions per day on average each user had. It reflects the usage of the portal. Users who ended up churning were using the site less frequently (2.75 vs. 5.11 for non-churners)."
   ]
  },
  {
   "cell_type": "code",
   "execution_count": 29,
   "metadata": {},
   "outputs": [
    {
     "name": "stdout",
     "output_type": "stream",
     "text": [
      "churn\n",
      "0    63.075771\n",
      "1    69.803983\n",
      "Name: avg_session_song_cnt, dtype: float64\n"
     ]
    },
    {
     "data": {
      "image/png": "[encoded data removed]",
      "text/plain": [
       "<Figure size 432x288 with 1 Axes>"
      ]
     },
     "metadata": {},
     "output_type": "display_data"
    }
   ],
   "source": [
    "print(user_df_pd.groupby('churn')['avg_session_song_cnt'].agg('mean'))\n",
    "sns.boxplot(x='churn', y='avg_session_song_cnt', data=user_df_pd);"
   ]
  },
  {
   "cell_type": "markdown",
   "metadata": {},
   "source": [
    "Churners listened about the same number of songs per session. Most likely it will not be a predictive feature for churn"
   ]
  },
  {
   "cell_type": "code",
   "execution_count": 30,
   "metadata": {},
   "outputs": [
    {
     "name": "stdout",
     "output_type": "stream",
     "text": [
      "churn\n",
      "0    55.948424\n",
      "1    43.434343\n",
      "Name: thumbs_up, dtype: float64\n"
     ]
    },
    {
     "data": {
      "image/png": "[encoded data removed]",
      "text/plain": [
       "<Figure size 432x288 with 1 Axes>"
      ]
     },
     "metadata": {},
     "output_type": "display_data"
    }
   ],
   "source": [
    "print(user_df_pd.groupby('churn')['thumbs_up'].agg('mean'))\n",
    "sns.boxplot(x='churn', y='thumbs_up', data=user_df_pd);"
   ]
  },
  {
   "cell_type": "markdown",
   "metadata": {},
   "source": [
    "Churners gave less 'thumbs up' rating comparing to non-churners"
   ]
  },
  {
   "cell_type": "code",
   "execution_count": 31,
   "metadata": {},
   "outputs": [
    {
     "name": "stdout",
     "output_type": "stream",
     "text": [
      "churn\n",
      "0    18.767908\n",
      "1    15.525253\n",
      "Name: add_friend, dtype: float64\n"
     ]
    },
    {
     "data": {
      "image/png": "[encoded data removed]",
      "text/plain": [
       "<Figure size 432x288 with 1 Axes>"
      ]
     },
     "metadata": {},
     "output_type": "display_data"
    }
   ],
   "source": [
    "print(user_df_pd.groupby('churn')['add_friend'].agg('mean'))\n",
    "sns.boxplot(x='churn', y='add_friend', data=user_df_pd);"
   ]
  },
  {
   "cell_type": "markdown",
   "metadata": {},
   "source": [
    "Additionally, churners were not adding friends as often as non-churners"
   ]
  },
  {
   "cell_type": "code",
   "execution_count": 32,
   "metadata": {},
   "outputs": [
    {
     "name": "stdout",
     "output_type": "stream",
     "text": [
      "churn\n",
      "0    8.538682\n",
      "1    8.393939\n",
      "Name: downgrade, dtype: float64\n"
     ]
    },
    {
     "data": {
      "image/png": "[encoded data removed]",
      "text/plain": [
       "<Figure size 432x288 with 1 Axes>"
      ]
     },
     "metadata": {},
     "output_type": "display_data"
    }
   ],
   "source": [
    "print(user_df_pd.groupby('churn')['downgrade'].agg('mean'))\n",
    "sns.boxplot(x='churn', y='downgrade', data=user_df_pd);"
   ]
  },
  {
   "cell_type": "markdown",
   "metadata": {},
   "source": [
    "Interestingly, churners were downgrading as often as non-churners"
   ]
  },
  {
   "cell_type": "code",
   "execution_count": 34,
   "metadata": {},
   "outputs": [
    {
     "data": {
      "text/plain": [
       "paid  churn\n",
       "0     0        0.811024\n",
       "      1        0.188976\n",
       "1     0        0.766355\n",
       "      1        0.233645\n",
       "Name: churn, dtype: float64"
      ]
     },
     "execution_count": 34,
     "metadata": {},
     "output_type": "execute_result"
    }
   ],
   "source": [
    "user_df_pd.groupby('paid')['churn'].value_counts(normalize=True)"
   ]
  },
  {
   "cell_type": "markdown",
   "metadata": {},
   "source": [
    "23% of churners were paying for the service vs. 19% non-churners."
   ]
  },
  {
   "cell_type": "markdown",
   "metadata": {},
   "source": [
    "# Modeling\n",
    "Split the full dataset into train, test, and validation sets. Test out several of the machine learning methods you learned. Evaluate the accuracy of the various models, tuning parameters as necessary. Determine your winning model based on test accuracy and report results on the validation set. Since the churned users are a fairly small subset, I suggest using F1 score as the metric to optimize."
   ]
  },
  {
   "cell_type": "code",
   "execution_count": 83,
   "metadata": {},
   "outputs": [],
   "source": [
    "from pyspark.ml import Pipeline, PipelineModel\n",
    "\n",
    "from pyspark.ml.classification import LogisticRegression, GBTClassifier, GBTClassificationModel, RandomForestClassifier, RandomForestClassificationModel\n",
    "from pyspark.ml.feature import StandardScaler, VectorAssembler, SQLTransformer, Imputer \n",
    "from pyspark.ml.evaluation import BinaryClassificationEvaluator"
   ]
  },
  {
   "cell_type": "code",
   "execution_count": 36,
   "metadata": {},
   "outputs": [
    {
     "name": "stdout",
     "output_type": "stream",
     "text": [
      "root\n",
      " |-- userId: string (nullable = true)\n",
      " |-- churn: integer (nullable = true)\n",
      " |-- start_dt: string (nullable = true)\n",
      " |-- end_dt: string (nullable = true)\n",
      " |-- views_cnt: long (nullable = false)\n",
      " |-- visits_cnt: long (nullable = false)\n",
      " |-- paid: integer (nullable = false)\n",
      " |-- all_artists_cnt: long (nullable = false)\n",
      " |-- tenure: integer (nullable = true)\n",
      " |-- avg_session_song_cnt: double (nullable = true)\n",
      " |-- avg_session_duriation_hr: double (nullable = true)\n",
      " |-- avg_song_length: double (nullable = true)\n",
      " |-- freq: double (nullable = true)\n",
      " |-- thumbs_up: long (nullable = true)\n",
      " |-- add_to_playlist: long (nullable = true)\n",
      " |-- add_friend: long (nullable = true)\n",
      " |-- thumbs_down: long (nullable = true)\n",
      " |-- upgrade: long (nullable = true)\n",
      " |-- downgrade: long (nullable = true)\n",
      " |-- rol_advert: long (nullable = true)\n",
      " |-- help: long (nullable = true)\n",
      " |-- settings: long (nullable = true)\n",
      "\n"
     ]
    }
   ],
   "source": [
    "user_df.printSchema()"
   ]
  },
  {
   "cell_type": "code",
   "execution_count": 38,
   "metadata": {},
   "outputs": [
    {
     "name": "stdout",
     "output_type": "stream",
     "text": [
      "['views_cnt', 'visits_cnt', 'paid', 'all_artists_cnt', 'tenure', 'avg_session_song_cnt', 'avg_session_duriation_hr', 'avg_song_length', 'freq', 'thumbs_up', 'add_to_playlist', 'add_friend', 'thumbs_down', 'upgrade', 'downgrade', 'rol_advert', 'help', 'settings']\n"
     ]
    }
   ],
   "source": [
    "label = 'churn'\n",
    "feature_cols = user_df.columns[4:]\n",
    "print(feature_cols)"
   ]
  },
  {
   "cell_type": "code",
   "execution_count": 39,
   "metadata": {},
   "outputs": [],
   "source": [
    "# Convert all numeric columns to double\n",
    "for feature in feature_cols:\n",
    "    user_df = user_df.withColumn(feature, user_df[feature].cast(\"double\"))"
   ]
  },
  {
   "cell_type": "code",
   "execution_count": 42,
   "metadata": {},
   "outputs": [],
   "source": [
    "# Split between train and test\n",
    "df_train, df_test = user_df.randomSplit([0.7,0.3], seed=42)"
   ]
  },
  {
   "cell_type": "code",
   "execution_count": 46,
   "metadata": {},
   "outputs": [],
   "source": [
    "imputed_columns = ['IMP_'+col for col in feature_cols]\n",
    "\n",
    "imputer = Imputer(inputCols=feature_cols, outputCols=imputed_columns, strategy='median')\n",
    "\n",
    "assembler = VectorAssembler(inputCols=imputed_columns, outputCol=\"features\")\n",
    "\n",
    "lr =  LogisticRegression(featuresCol = 'features', labelCol=label, maxIter=10)\n",
    "\n",
    "pipeline = Pipeline(stages=[imputer, assembler, lr])"
   ]
  },
  {
   "cell_type": "code",
   "execution_count": 47,
   "metadata": {},
   "outputs": [],
   "source": [
    "lr_model = pipeline.fit(df_train)\n",
    "train_predict = lr_model.transform(df_train)\n",
    "test_predict = lr_model.transform(df_test)"
   ]
  },
  {
   "cell_type": "code",
   "execution_count": 48,
   "metadata": {},
   "outputs": [],
   "source": [
    "# save model\n",
    "lr_model.write().overwrite().save(\"lr_churn_pipeline\")"
   ]
  },
  {
   "cell_type": "code",
   "execution_count": 50,
   "metadata": {},
   "outputs": [
    {
     "name": "stdout",
     "output_type": "stream",
     "text": [
      "Logistic Regression train score:  0.8741111829347122\n",
      "Logistic Regression test score:  0.8442728442728453\n"
     ]
    }
   ],
   "source": [
    "# Evaluate model\n",
    "evaluator = BinaryClassificationEvaluator(rawPredictionCol=\"rawPrediction\", labelCol=label)\n",
    "print(\"Logistic Regression train score: \", evaluator.evaluate(train_predict))\n",
    "print(\"Logisti score: \", evaluator.evaluate(test_predict))"
   ]
  },
  {
   "cell_type": "code",
   "execution_count": 77,
   "metadata": {},
   "outputs": [
    {
     "name": "stdout",
     "output_type": "stream",
     "text": [
      "[(0.6647204995137695, 'paid'), (0.07318447849491035, 'upgrade'), (0.06363241572297289, 'avg_session_duriation_hr'), (0.02503367595705719, 'rol_advert'), (0.018673550295816025, 'thumbs_down'), (0.015907274596983604, 'downgrade'), (0.006089164362501732, 'avg_song_length'), (0.005285725464596071, 'avg_session_song_cnt'), (0.0006166972329346528, 'settings'), (-6.926904386326592e-07, 'views_cnt'), (-3.89144026965846e-05, 'all_artists_cnt'), (-0.0002073839276037264, 'help'), (-0.0008506408108819373, 'add_friend'), (-0.0017876542805600503, 'thumbs_up'), (-0.0024644425761096017, 'visits_cnt'), (-0.004072591687589699, 'add_to_playlist'), (-0.06831290907873494, 'tenure'), (-0.19321786103221458, 'freq')]\n"
     ]
    }
   ],
   "source": [
    "# Explore the top predictors\n",
    "m = lr_model.stages[2]\n",
    "feature_importance = zip(m.coefficients, feature_cols)\n",
    "# source how to sort list https://www.geeksforgeeks.org/python-ways-to-sort-a-zipped-list-by-values/\n",
    "res = sorted(feature_importance, key = lambda x: x[0], reverse=True) \n",
    "print(res)"
   ]
  },
  {
   "cell_type": "markdown",
   "metadata": {},
   "source": [
    "From the feature importance coefficients, we can see that paid subscription, number of upgrades and average session duration are positively correlated with churn while visit frequency and tenure have negative correlation with churn"
   ]
  },
  {
   "cell_type": "markdown",
   "metadata": {},
   "source": [
    "# Model tuning and selection\n",
    "\n",
    "We will try other modeling algorithms such as boosted decision trees to try to improve the performance. We will also try to further improve the model by tuning the hyperparameters."
   ]
  },
  {
   "cell_type": "code",
   "execution_count": 51,
   "metadata": {},
   "outputs": [],
   "source": [
    "# Try GBT model\n",
    "gbt = GBTClassifier(featuresCol = 'features', labelCol=label)\n",
    "pipeline = Pipeline(stages=[imputer, assembler, gbt])"
   ]
  },
  {
   "cell_type": "code",
   "execution_count": 52,
   "metadata": {},
   "outputs": [],
   "source": [
    "gbt_model = pipeline.fit(df_train)\n",
    "train_predict_gbt = gbt_model.transform(df_train)\n",
    "test_predict_gbt = gbt_model.transform(df_test)"
   ]
  },
  {
   "cell_type": "code",
   "execution_count": 79,
   "metadata": {},
   "outputs": [
    {
     "name": "stdout",
     "output_type": "stream",
     "text": [
      "GBT train score:  0.9999999999999998\n",
      "GBT test score:  0.8110253110253115\n"
     ]
    }
   ],
   "source": [
    "print(\"GBT train score: \", evaluator.evaluate(train_predict))\n",
    "print(\"GBT test score: \", evaluator.evaluate(test_predict))"
   ]
  },
  {
   "cell_type": "markdown",
   "metadata": {},
   "source": [
    "Gradient Boosted Tree classifier showed a good result on the train data with the large drop in accuracy on test.\n",
    "To reduce overfitting, we can tune the paramters. However, since logistic regression showed good performance, the better solution will be to go with the simpler model. We can further optimize it with the model tuning"
   ]
  },
  {
   "cell_type": "code",
   "execution_count": 102,
   "metadata": {},
   "outputs": [
    {
     "name": "stdout",
     "output_type": "stream",
     "text": [
      "0.2468354430379747\n"
     ]
    }
   ],
   "source": [
    "# Adding a class weight since we are dealing with imbalanced data\n",
    "# source: https://medium.com/@dhiraj.p.rai/logistic-regression-in-spark-ml-8a95b5f5434c\n",
    "weightRatio= df_train.filter('churn==1').count()/df_train.count()\n",
    "print(weightRatio)"
   ]
  },
  {
   "cell_type": "code",
   "execution_count": 105,
   "metadata": {},
   "outputs": [],
   "source": [
    "df_train=df_train.withColumn(\"classWeights\", when(df_train.churn == 0,weightRatio).otherwise(1-weightRatio))"
   ]
  },
  {
   "cell_type": "code",
   "execution_count": 106,
   "metadata": {},
   "outputs": [],
   "source": [
    "lr =  LogisticRegression(featuresCol = 'scaledFeatures', labelCol=label, maxIter=10, weightCol=\"classWeights\")\n",
    "pipeline = Pipeline(stages=[imputer, assembler, scaler, lr])"
   ]
  },
  {
   "cell_type": "code",
   "execution_count": 107,
   "metadata": {},
   "outputs": [],
   "source": [
    "lr_model = pipeline.fit(df_train)\n",
    "train_predict = lr_model.transform(df_train)\n",
    "test_predict = lr_model.transform(df_test)"
   ]
  },
  {
   "cell_type": "code",
   "execution_count": 108,
   "metadata": {},
   "outputs": [
    {
     "name": "stdout",
     "output_type": "stream",
     "text": [
      "Logistic Regression train score:  0.8785283344106875\n",
      "Logisti score:  0.8670098670098678\n"
     ]
    }
   ],
   "source": [
    "# Evaluate model\n",
    "evaluator = BinaryClassificationEvaluator(rawPredictionCol=\"rawPrediction\", labelCol=label)\n",
    "print(\"Logistic Regression train score: \", evaluator.evaluate(train_predict))\n",
    "print(\"Logistic score: \", evaluator.evaluate(test_predict))"
   ]
  },
  {
   "cell_type": "code",
   "execution_count": 110,
   "metadata": {},
   "outputs": [],
   "source": [
    "# To try to improve the model further, I will change other parameter values such as \n",
    "# regularization, number of iterations, elastic net and aggregation depth\n",
    "\n",
    "from pyspark.ml.tuning import CrossValidator, ParamGridBuilder"
   ]
  },
  {
   "cell_type": "code",
   "execution_count": 113,
   "metadata": {},
   "outputs": [],
   "source": [
    "paramGrid = ParamGridBuilder() \\\n",
    "    .addGrid(lr.maxIter,[10,50,100]) \\\n",
    "    .addGrid(lr.regParam,[0.0, 0.1]) \\\n",
    "    .addGrid(lr.elasticNetParam,[0.0,0.5,1.0]) \\\n",
    "    .addGrid(lr.aggregationDepth,[2, 5, 10]) \\\n",
    "    .build()"
   ]
  },
  {
   "cell_type": "code",
   "execution_count": 114,
   "metadata": {},
   "outputs": [],
   "source": [
    "# Adding 3-fold cross validation\n",
    "crossval = CrossValidator(estimator=pipeline,\n",
    "                          estimatorParamMaps=paramGrid,\n",
    "                          evaluator=evaluator,\n",
    "                          numFolds=3)\n",
    "# Run cross validation\n",
    "cv_model = crossval.fit(df_train)"
   ]
  },
  {
   "cell_type": "code",
   "execution_count": 115,
   "metadata": {},
   "outputs": [],
   "source": [
    "train_predict = cv_model.transform(df_train)\n",
    "test_predict = cv_model.transform(df_test)"
   ]
  },
  {
   "cell_type": "code",
   "execution_count": 116,
   "metadata": {},
   "outputs": [
    {
     "name": "stdout",
     "output_type": "stream",
     "text": [
      "Train score after tuning:  0.878528334410687\n",
      "Test score after tuning:  0.8670098670098677\n"
     ]
    }
   ],
   "source": [
    "print(\"Train score after tuning: \", evaluator.evaluate(train_predict))\n",
    "print(\"Test score after tuning: \", evaluator.evaluate(test_predict))"
   ]
  },
  {
   "cell_type": "code",
   "execution_count": 119,
   "metadata": {},
   "outputs": [
    {
     "data": {
      "text/plain": [
       "([{'maxIter': 10},\n",
       "  {'regParam': 0.0},\n",
       "  {'elasticNetParam': 0.0},\n",
       "  {'aggregationDepth': 5}],\n",
       " 0.8729973369498643)"
      ]
     },
     "execution_count": 119,
     "metadata": {},
     "output_type": "execute_result"
    }
   ],
   "source": [
    "# what params performed the best\n",
    "\n",
    "results = [\n",
    "    (\n",
    "        [\n",
    "            {key.name: paramValue} \n",
    "            for key, paramValue \n",
    "            in zip(\n",
    "                params.keys(), \n",
    "                params.values())\n",
    "        ], metric\n",
    "    ) \n",
    "    for params, metric \n",
    "    in zip(\n",
    "        cv_model.getEstimatorParamMaps(), \n",
    "        cv_model.avgMetrics\n",
    "    )\n",
    "]\n",
    "\n",
    "sorted(results, \n",
    "       key=lambda el: el[1], \n",
    "       reverse=True)[0]"
   ]
  },
  {
   "cell_type": "markdown",
   "metadata": {},
   "source": [
    "# Conclusion\n",
    "\n",
    "I primarily used Spark libraries for data cleaning, analysis, modeling and evaluation. I ended up using medium data set. While initial data had over 600K rows, after aggregating on the user level, the resulting data had 99 churners and 349 non-churners. At this point, it would be easier to use Python scikit learn libraries. However, I decided to proceed with the Spark machine learning libraries to satisfy the project requirements.\n",
    "\n",
    "The Logistic regression classifier was the most effective for this problem. Additional tuning showed slight improvement in test data. The resulting model performance showed 0.8785 AUC on the train and 0.8670 on the test data. This is reasonably good performance given very small training set. Train and test performance metrics is also close that indicate that the model may generalize well on a new dataset as well. Ideally, we should test on the hold out sample after we tune the model. I skipped this steps given small data set and relied on cross validation approach instead.\n",
    "\n",
    "If we need to tune it further, I suggest to generate features based on the order of interactions to pick up signals of when a user loses interest in the services. This will allow us to timely predict the churn event."
   ]
  },
  {
   "cell_type": "code",
   "execution_count": null,
   "metadata": {},
   "outputs": [],
   "source": []
  }
 ],
 "metadata": {
  "kernel_args": {
   "conf": {},
   "version": "current"
  },
  "kernelspec": {
   "display_name": "PySpark 3 (Beta)",
   "language": "",
   "name": "pysparkkernel3"
  },
  "language_info": {
   "codemirror_mode": {
    "name": "python",
    "version": 3
   },
   "mimetype": "text/x-python",
   "name": "pyspark3",
   "pygments_lexer": "ipython2",
   "version": "1.0"
  },
  "toc": {
   "base_numbering": 1,
   "nav_menu": {},
   "number_sections": true,
   "sideBar": true,
   "skip_h1_title": false,
   "title_cell": "Table of Contents",
   "title_sidebar": "Contents",
   "toc_cell": false,
   "toc_position": {},
   "toc_section_display": true,
   "toc_window_display": false
  }
 },
 "nbformat": 4,
 "nbformat_minor": 4
}
